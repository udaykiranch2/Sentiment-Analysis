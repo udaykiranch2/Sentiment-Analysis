{
 "cells": [
  {
   "cell_type": "markdown",
   "id": "53e184f3",
   "metadata": {},
   "source": [
    "\n",
    "# Webscraping\n"
   ]
  },
  {
   "cell_type": "markdown",
   "id": "ba5222cd",
   "metadata": {},
   "source": [
    "This Jupyter notebook includes some code to get you started with web scraping.We will use a package called \"BeautifulSoup\" to collect data\n",
    "from web. Once you've collected your data and saved it into local .csv file you should start with your analysis.\n"
   ]
  },
  {
   "cell_type": "markdown",
   "id": "f8925883",
   "metadata": {},
   "source": [
    " If you visit this link:\"https://www.airlinequality.com/airline-reviews/qatar-airways/\", you can see lot of data in that site. For this task we are only interested in reviews related to qatar-airways. Now, we can use Python and Beautiful Soup to collect data from each individual review link."
   ]
  },
  {
   "cell_type": "code",
   "execution_count": 1,
   "id": "f4c2ee41",
   "metadata": {},
   "outputs": [],
   "source": [
    "import pandas as pd\n",
    "import requests\n",
    "from bs4 import BeautifulSoup"
   ]
  },
  {
   "cell_type": "code",
   "execution_count": 2,
   "id": "239dec73",
   "metadata": {},
   "outputs": [],
   "source": [
    "#get the url skytrax website for scraping user reviews on British Airways\n",
    "base_url =\"https://www.airlinequality.com/airline-reviews/qatar-airways/\"\n",
    "pages = 20\n",
    "page_size=100"
   ]
  },
  {
   "cell_type": "code",
   "execution_count": 3,
   "id": "d2c2603e",
   "metadata": {},
   "outputs": [],
   "source": [
    "#creating a dictionary for scraping review data.\n",
    "dict={\"Name\":[],\n",
    "      \"Review\":[],\n",
    "      \"Rating\":[],\"Verify\":[]}\n",
    "tables = []"
   ]
  },
  {
   "cell_type": "code",
   "execution_count": 4,
   "id": "8f58264c",
   "metadata": {},
   "outputs": [
    {
     "name": "stdout",
     "output_type": "stream",
     "text": [
      "Scraping page 1\n",
      "Scraping page 2\n",
      "Scraping page 3\n",
      "Scraping page 4\n",
      "Scraping page 5\n",
      "Scraping page 6\n",
      "Scraping page 7\n",
      "Scraping page 8\n",
      "Scraping page 9\n",
      "Scraping page 10\n",
      "Scraping page 11\n",
      "Scraping page 12\n",
      "Scraping page 13\n",
      "Scraping page 14\n",
      "Scraping page 15\n",
      "Scraping page 16\n",
      "Scraping page 17\n",
      "Scraping page 18\n",
      "Scraping page 19\n",
      "Scraping page 20\n"
     ]
    }
   ],
   "source": [
    "# scrape user review and create list conating all required html classes.\n",
    "for t in range(1, pages + 1):\n",
    "\n",
    "    print(f\"Scraping page {t}\")\n",
    "\n",
    "    # Create URL to collect links from paginated data\n",
    "    url = f\"https://www.airlinequality.com/airline-reviews/qatar-airways/page/{t}/?sortby=post_date%3ADesc&pagesize={page_size}\"\n",
    "\n",
    "    # Collect HTML data from this page\n",
    "    response=requests.get(url).content\n",
    "    soup=BeautifulSoup(response,\"lxml\")\n",
    "    para = soup.find_all(\"article\",{\"itemprop\":\"review\"})\n",
    "    for para2 in soup.find_all(\"div\", {\"class\": \"text_content\"}):\n",
    "        dict[\"Review\"].append(para2.get_text().strip())"
   ]
  },
  {
   "cell_type": "code",
   "execution_count": 5,
   "id": "2995daf8",
   "metadata": {},
   "outputs": [],
   "source": [
    "# creating lists and dict for creating Dataframe\n",
    "\n",
    "\n",
    "\n",
    "columns=[ 'Seat Type', 'Recommended','Aircraft', 'Type Of Traveller', 'Route']  \n",
    "        \n",
    "valued_col=['Ground Service', 'Wifi & Connectivity','Seat Comfort','Value For Money', 'Inflight Entertainment',\n",
    "                'Food & Beverages', 'Cabin Staff Service']\n",
    "\n",
    "\n",
    "dict2 = {'Aircraft':[], 'Seat Type':[],'Type Of Traveller':[] ,'Recommended':[] ,'Ground Service':[],\n",
    "        'Wifi & Connectivity':[], 'Seat Comfort':[], \n",
    "        'Value For Money':[], 'Inflight Entertainment':[],\n",
    "        'Food & Beverages':[], 'Cabin Staff Service':[],'Route':[]}"
   ]
  },
  {
   "cell_type": "code",
   "execution_count": 6,
   "id": "ce80a50e",
   "metadata": {},
   "outputs": [
    {
     "name": "stdout",
     "output_type": "stream",
     "text": [
      "{'Ground Service', 'Cabin Staff Service', 'Type Of Traveller', 'Value For Money', 'Inflight Entertainment', 'Seat Type', 'Route', 'Seat Comfort', 'Recommended', 'Wifi & Connectivity', 'Food & Beverages', 'Aircraft', 'Date Flown'}\n"
     ]
    },
    {
     "data": {
      "text/plain": [
       "13"
      ]
     },
     "execution_count": 6,
     "metadata": {},
     "output_type": "execute_result"
    }
   ],
   "source": [
    "#finding review caegories given by customer.\n",
    "\n",
    "list=[]\n",
    "for rev in para:\n",
    "    table=rev.find(\"table\",{\"class\":\"review-ratings\"})\n",
    "    rows = table.find_all(\"tr\")\n",
    "    for row in rows:\n",
    "        data=row.find_all(\"td\")\n",
    "        for x in data:\n",
    "            list.append(x.get_text())\n",
    "\n",
    "double_li = [list[x:x+2] for x in range(0,len(list),2)]\n",
    "\n",
    "\n",
    "\n",
    "\n",
    "\n",
    "# to find column elements\n",
    "l=[]\n",
    "for x in double_li:\n",
    "    t=x[0]\n",
    "    l.append(t)     # appending table columns to a list \"l\"\n",
    "s=set(l)            # getting unique values\n",
    "print(s)\n",
    "len(s)"
   ]
  },
  {
   "cell_type": "code",
   "execution_count": null,
   "id": "6edadd75",
   "metadata": {},
   "outputs": [],
   "source": [
    "# # finding the date when customer given review\n",
    "\n",
    "# for t in range(1, pages + 1):\n",
    "   \n",
    "#     for rev in para:\n",
    "#         date = rev.find(\"meta\")[\"content\"]\n",
    "#         if date == None:\n",
    "#             dict[\"Date\"].append(\"NA\")\n",
    "#         elif date != None:\n",
    "#             dict[\"Date\"].append(date)\n",
    "            \n"
   ]
  },
  {
   "cell_type": "code",
   "execution_count": 7,
   "id": "57a33e80",
   "metadata": {},
   "outputs": [],
   "source": [
    "for t in range(1, pages + 1):  #getting overall rating given by customer.\n",
    "    for rev in para:\n",
    "        rating=rev.find(\"div\",{\"class\":\"rating-10\"}).find(\"span\",{\"itemprop\":\"ratingValue\"})\n",
    "        if rating == None:\n",
    "            dict[\"Rating\"].append(\"NA\")\n",
    "        elif rating !=None:\n",
    "            dict[\"Rating\"].append(rating.text)\n"
   ]
  },
  {
   "cell_type": "code",
   "execution_count": 8,
   "id": "475c68bf",
   "metadata": {},
   "outputs": [],
   "source": [
    "for t in range(1, pages + 1): # getting name of customer.\n",
    "    for rev in para:\n",
    "    \n",
    "        names=rev.find(\"h3\").find(\"span\",{\"itemprop\":\"author\"}).find(\"span\",{\"itemprop\":\"name\"})\n",
    "        if names == None:\n",
    "            dict[\"Name\"].append(\"NA\")\n",
    "        elif names != None:\n",
    "            dict[\"Name\"].append(names.get_text())\n",
    "        \n"
   ]
  },
  {
   "cell_type": "code",
   "execution_count": 9,
   "id": "60d31c1d",
   "metadata": {},
   "outputs": [],
   "source": [
    " # checking and getting verification status of review\n",
    "\n",
    "for t in range(1, pages + 1):   \n",
    "    for rev in para:\n",
    "        verify=rev.find(\"div\",{\"class\":\"tc_mobile\"}).find(\"div\",{\"class\":\"text_content\"}).find(\"a\")\n",
    "        if verify==None:\n",
    "            dict[\"Verify\"].append(\"NA\")\n",
    "        elif verify != None:\n",
    "            dict[\"Verify\"].append(verify.get_text())\n",
    "\n",
    "\n",
    "\n"
   ]
  },
  {
   "cell_type": "code",
   "execution_count": 10,
   "id": "0ba4aefd",
   "metadata": {},
   "outputs": [
    {
     "data": {
      "text/plain": [
       "2000"
      ]
     },
     "execution_count": 10,
     "metadata": {},
     "output_type": "execute_result"
    }
   ],
   "source": [
    "len(dict[\"Rating\"])"
   ]
  },
  {
   "cell_type": "code",
   "execution_count": 11,
   "id": "a33f8df9",
   "metadata": {},
   "outputs": [],
   "source": [
    "# obtaining all rows of the table\n",
    "\n",
    "row_data=[]\n",
    "for t in range(1,pages+1):\n",
    "    \n",
    "    for rev in para:\n",
    "        table=rev.find(\"table\",{\"class\":\"review-ratings\"})\n",
    "        rows = table.find_all(\"tr\")\n",
    "        row_data.append(rows)\n"
   ]
  },
  {
   "cell_type": "code",
   "execution_count": 12,
   "id": "6f0dbec3",
   "metadata": {},
   "outputs": [
    {
     "name": "stdout",
     "output_type": "stream",
     "text": [
      "successful\n"
     ]
    }
   ],
   "source": [
    "# moving all table keys and values into a dictionary\n",
    "\n",
    "for t in range(1,pages+1):\n",
    "\n",
    "    j=0\n",
    "    while j < 100:\n",
    "        ele_li=[]\n",
    "        for ele in row_data[j]:\n",
    "            col = ele.find_all(\"td\")\n",
    "            ele_li.append(col)\n",
    "        \n",
    "        i=0\n",
    "        while i < len(ele_li):\n",
    "            for k in columns:\n",
    "                dict2[k]\n",
    "                if ele_li[i][0].get_text() == k:\n",
    "                    dict_val=ele_li[i][1].get_text()\n",
    "                    dict2[k].append( dict_val)\n",
    "        \n",
    "            for k in valued_col:\n",
    "                if ele_li[i][0].get_text() == k:\n",
    "                    str=\"\"\n",
    "\n",
    "                    for q in ele_li[i]:\n",
    "                        rate = q.find_all(\"span\",{\"class\":\"star fill\"})\n",
    "            \n",
    "                        for x in rate:\n",
    "                            str +=x.get_text()\n",
    "                    dict2[k].append(str[-1])\n",
    "            i +=1\n",
    "\n",
    "        lens = dict2.keys()\n",
    "        for item in lens:\n",
    "            if len(dict2[item]) != len(dict2[\"Recommended\"]):\n",
    "                dict2[item].append(\"NA\")\n",
    "        j+=1\n",
    "\n",
    "print(\"successful\")   "
   ]
  },
  {
   "cell_type": "code",
   "execution_count": 13,
   "id": "fe17595c",
   "metadata": {},
   "outputs": [
    {
     "name": "stdout",
     "output_type": "stream",
     "text": [
      "2000\n",
      "2000\n",
      "2000\n",
      "2000\n",
      "2000\n",
      "2000\n",
      "2000\n",
      "2000\n",
      "2000\n",
      "2000\n",
      "2000\n",
      "2000\n"
     ]
    }
   ],
   "source": [
    "lens = dict2.values()\n",
    "for item in lens:\n",
    "    print(len(item))"
   ]
  },
  {
   "cell_type": "code",
   "execution_count": 14,
   "id": "617d0f2e",
   "metadata": {},
   "outputs": [],
   "source": [
    "res = {**dict, **dict2} #appending two dictionaries."
   ]
  },
  {
   "cell_type": "code",
   "execution_count": 15,
   "id": "e6331ec5",
   "metadata": {},
   "outputs": [
    {
     "data": {
      "text/html": [
       "<div>\n",
       "<style scoped>\n",
       "    .dataframe tbody tr th:only-of-type {\n",
       "        vertical-align: middle;\n",
       "    }\n",
       "\n",
       "    .dataframe tbody tr th {\n",
       "        vertical-align: top;\n",
       "    }\n",
       "\n",
       "    .dataframe thead th {\n",
       "        text-align: right;\n",
       "    }\n",
       "</style>\n",
       "<table border=\"1\" class=\"dataframe\">\n",
       "  <thead>\n",
       "    <tr style=\"text-align: right;\">\n",
       "      <th></th>\n",
       "      <th>Name</th>\n",
       "      <th>Review</th>\n",
       "      <th>Rating</th>\n",
       "      <th>Verify</th>\n",
       "      <th>Aircraft</th>\n",
       "      <th>Seat Type</th>\n",
       "      <th>Type Of Traveller</th>\n",
       "      <th>Recommended</th>\n",
       "      <th>Ground Service</th>\n",
       "      <th>Wifi &amp; Connectivity</th>\n",
       "      <th>Seat Comfort</th>\n",
       "      <th>Value For Money</th>\n",
       "      <th>Inflight Entertainment</th>\n",
       "      <th>Food &amp; Beverages</th>\n",
       "      <th>Cabin Staff Service</th>\n",
       "      <th>Route</th>\n",
       "    </tr>\n",
       "  </thead>\n",
       "  <tbody>\n",
       "    <tr>\n",
       "      <th>0</th>\n",
       "      <td>G Thompson</td>\n",
       "      <td>✅ Trip Verified | We flew on probably the firs...</td>\n",
       "      <td>8</td>\n",
       "      <td>NA</td>\n",
       "      <td>Boeing 787 / A320</td>\n",
       "      <td>Economy Class</td>\n",
       "      <td>Solo Leisure</td>\n",
       "      <td>yes</td>\n",
       "      <td>3</td>\n",
       "      <td>NA</td>\n",
       "      <td>2</td>\n",
       "      <td>5</td>\n",
       "      <td>4</td>\n",
       "      <td>4</td>\n",
       "      <td>3</td>\n",
       "      <td>Johannesburg to Istanbul (SAW) via Doha</td>\n",
       "    </tr>\n",
       "    <tr>\n",
       "      <th>1</th>\n",
       "      <td>Nico Brandts</td>\n",
       "      <td>✅ Trip Verified |  Service was ok, pretty good...</td>\n",
       "      <td>8</td>\n",
       "      <td>NA</td>\n",
       "      <td>Boeing 787 / 777-300ER</td>\n",
       "      <td>Economy Class</td>\n",
       "      <td>Solo Leisure</td>\n",
       "      <td>yes</td>\n",
       "      <td>4</td>\n",
       "      <td>3</td>\n",
       "      <td>3</td>\n",
       "      <td>4</td>\n",
       "      <td>3</td>\n",
       "      <td>3</td>\n",
       "      <td>4</td>\n",
       "      <td>AMS to BKK via DOH</td>\n",
       "    </tr>\n",
       "    <tr>\n",
       "      <th>2</th>\n",
       "      <td>Dave Houlihan</td>\n",
       "      <td>✅ Trip Verified | 12th February 2024 From chec...</td>\n",
       "      <td>5</td>\n",
       "      <td>NA</td>\n",
       "      <td>Boeing 787</td>\n",
       "      <td>Business Class</td>\n",
       "      <td>Business</td>\n",
       "      <td>yes</td>\n",
       "      <td>1</td>\n",
       "      <td>1</td>\n",
       "      <td>5</td>\n",
       "      <td>3</td>\n",
       "      <td>4</td>\n",
       "      <td>2</td>\n",
       "      <td>5</td>\n",
       "      <td>Dubai DWC to Johanesburg via Doha</td>\n",
       "    </tr>\n",
       "    <tr>\n",
       "      <th>3</th>\n",
       "      <td>Thomas Kingston</td>\n",
       "      <td>Not Verified |  Remarkable experience. Great t...</td>\n",
       "      <td>9</td>\n",
       "      <td>NA</td>\n",
       "      <td>Boeing 777-300ER</td>\n",
       "      <td>Economy Class</td>\n",
       "      <td>Solo Leisure</td>\n",
       "      <td>yes</td>\n",
       "      <td>3</td>\n",
       "      <td>NA</td>\n",
       "      <td>4</td>\n",
       "      <td>4</td>\n",
       "      <td>4</td>\n",
       "      <td>4</td>\n",
       "      <td>4</td>\n",
       "      <td>London to Doha</td>\n",
       "    </tr>\n",
       "    <tr>\n",
       "      <th>4</th>\n",
       "      <td>Thomas Kingston</td>\n",
       "      <td>✅ Trip Verified |  My last travel in January 2...</td>\n",
       "      <td>7</td>\n",
       "      <td>NA</td>\n",
       "      <td>A330-200</td>\n",
       "      <td>Economy Class</td>\n",
       "      <td>Solo Leisure</td>\n",
       "      <td>yes</td>\n",
       "      <td>3</td>\n",
       "      <td>NA</td>\n",
       "      <td>2</td>\n",
       "      <td>4</td>\n",
       "      <td>1</td>\n",
       "      <td>4</td>\n",
       "      <td>3</td>\n",
       "      <td>Doha to Jakarta</td>\n",
       "    </tr>\n",
       "  </tbody>\n",
       "</table>\n",
       "</div>"
      ],
      "text/plain": [
       "              Name                                             Review Rating  \\\n",
       "0       G Thompson  ✅ Trip Verified | We flew on probably the firs...      8   \n",
       "1     Nico Brandts  ✅ Trip Verified |  Service was ok, pretty good...      8   \n",
       "2    Dave Houlihan  ✅ Trip Verified | 12th February 2024 From chec...      5   \n",
       "3  Thomas Kingston  Not Verified |  Remarkable experience. Great t...      9   \n",
       "4  Thomas Kingston  ✅ Trip Verified |  My last travel in January 2...      7   \n",
       "\n",
       "  Verify                Aircraft       Seat Type Type Of Traveller  \\\n",
       "0     NA       Boeing 787 / A320   Economy Class      Solo Leisure   \n",
       "1     NA  Boeing 787 / 777-300ER   Economy Class      Solo Leisure   \n",
       "2     NA              Boeing 787  Business Class          Business   \n",
       "3     NA        Boeing 777-300ER   Economy Class      Solo Leisure   \n",
       "4     NA                A330-200   Economy Class      Solo Leisure   \n",
       "\n",
       "  Recommended Ground Service Wifi & Connectivity Seat Comfort Value For Money  \\\n",
       "0         yes              3                  NA            2               5   \n",
       "1         yes              4                   3            3               4   \n",
       "2         yes              1                   1            5               3   \n",
       "3         yes              3                  NA            4               4   \n",
       "4         yes              3                  NA            2               4   \n",
       "\n",
       "  Inflight Entertainment Food & Beverages Cabin Staff Service  \\\n",
       "0                      4                4                   3   \n",
       "1                      3                3                   4   \n",
       "2                      4                2                   5   \n",
       "3                      4                4                   4   \n",
       "4                      1                4                   3   \n",
       "\n",
       "                                     Route  \n",
       "0  Johannesburg to Istanbul (SAW) via Doha  \n",
       "1                       AMS to BKK via DOH  \n",
       "2        Dubai DWC to Johanesburg via Doha  \n",
       "3                           London to Doha  \n",
       "4                          Doha to Jakarta  "
      ]
     },
     "execution_count": 15,
     "metadata": {},
     "output_type": "execute_result"
    }
   ],
   "source": [
    "df = pd.DataFrame(res)\n",
    "df.head()"
   ]
  },
  {
   "cell_type": "code",
   "execution_count": 16,
   "id": "b6bef6f0",
   "metadata": {},
   "outputs": [],
   "source": [
    "df.to_csv(\"CustomerReviews.csv\",index=False)"
   ]
  },
  {
   "cell_type": "code",
   "execution_count": null,
   "id": "f30b4adf",
   "metadata": {},
   "outputs": [],
   "source": []
  }
 ],
 "metadata": {
  "kernelspec": {
   "display_name": "Python 3 (ipykernel)",
   "language": "python",
   "name": "python3"
  },
  "language_info": {
   "codemirror_mode": {
    "name": "ipython",
    "version": 3
   },
   "file_extension": ".py",
   "mimetype": "text/x-python",
   "name": "python",
   "nbconvert_exporter": "python",
   "pygments_lexer": "ipython3",
   "version": "3.11.8"
  }
 },
 "nbformat": 4,
 "nbformat_minor": 5
}
